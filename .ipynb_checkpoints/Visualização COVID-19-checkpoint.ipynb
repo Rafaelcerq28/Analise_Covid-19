{
 "cells": [
  {
   "cell_type": "markdown",
   "metadata": {},
   "source": [
    "<img src=\"img\\img_covid.jpg\">"
   ]
  },
  {
   "cell_type": "markdown",
   "metadata": {},
   "source": [
    "## COVID-19 no Brasil"
   ]
  },
  {
   "cell_type": "markdown",
   "metadata": {},
   "source": [
    "O Coronavírus (COVID-19) é uma doença infecciosa causada por um vírus. Ele causa problemas respiratórios semelhantes à gripe e sintomas como tosse, febre e, em casos mais graves, dificuldade para respirar.\n",
    "\n",
    "O Brasil teve seu primeiro caso de Coronavírus confirmado no dia 26/02/2020 em São Paulo. 14 dias após a descoberta do primeiro caso o país já começou a passar por algumas mudanças em sua rotina, como por exemplo, suspensão de aulas e eventos com número elevado de pessoas, fechamento de lojas, bares, restaurantes e shoppings, além de recomendações constantes sobre a importância do isolamento social no combate à doença. Um mês depois do primeiro caso diversas cidades estavam com as ruas vazias por conta das medidas de isolamento e o número de pessoas contaminadas já havia chegado a 1000, hoje - 26/04/2020 - esse número já passa de 60000 casos confirmados e 4000 mortes.\n",
    "\n",
    "<hr style=\"height:1px;border-width:0;color:gray;background-color:#C0C0C0\">\n",
    "\n",
    "Nesse projeto farei uma análise mostrando a evolução da doença no país e nos estados com o maior número de casos, utilizando a base de dados do Painel Coronavírus (https://covid.saude.gov.br/)\n",
    "\n"
   ]
  },
  {
   "cell_type": "code",
   "execution_count": null,
   "metadata": {},
   "outputs": [],
   "source": [
    "#importing libraries\n",
    "import pandas as pd\n",
    "import numpy as np\n",
    "import matplotlib.pyplot as plt\n",
    "import seaborn as sns"
   ]
  },
  {
   "cell_type": "code",
   "execution_count": null,
   "metadata": {},
   "outputs": [],
   "source": [
    "cv = pd.read_csv('datasets/arquivo_geral.csv',sep=';')"
   ]
  },
  {
   "cell_type": "markdown",
   "metadata": {},
   "source": [
    "#### Analise inicial e tratamento dos dados"
   ]
  },
  {
   "cell_type": "code",
   "execution_count": null,
   "metadata": {},
   "outputs": [],
   "source": [
    "cv.head()"
   ]
  },
  {
   "cell_type": "code",
   "execution_count": null,
   "metadata": {},
   "outputs": [],
   "source": [
    "cv.info()"
   ]
  },
  {
   "cell_type": "code",
   "execution_count": null,
   "metadata": {},
   "outputs": [],
   "source": [
    "cv.describe()"
   ]
  },
  {
   "cell_type": "code",
   "execution_count": null,
   "metadata": {
    "scrolled": true
   },
   "outputs": [],
   "source": [
    "#criar um dataframe sem todas aquelas informações de data repetidas\n",
    "\n",
    "#Seleciona a data mostrando apenas UMA vez cada data\n",
    "lista_data = cv['data'].unique()\n",
    "\n",
    "#Criando listas para armazenar os dados na mesma quantidade da lista com as datas\n",
    "lista_casosAcumulados = []\n",
    "lista_obitosAcumulados = []\n",
    "lista_casosNovos = []\n",
    "lista_obitosNovos = []\n",
    "\n",
    "#Criado um laço que para cada iteração do dia ele grave nas listas a soma dos valores\n",
    "#daquele dia em todos os estados\n",
    "for dia in range(len(lista_data)):\n",
    "    lista_casosAcumulados.append(cv[cv['data'] == lista_data[dia]]['casosAcumulados'].sum())\n",
    "    lista_casosNovos.append(cv[cv['data'] == lista_data[dia]]['casosNovos'].sum())\n",
    "    lista_obitosAcumulados.append(cv[cv['data'] == lista_data[dia]]['obitosAcumulados'].sum())\n",
    "    lista_obitosNovos.append(cv[cv['data'] == lista_data[dia]]['obitosNovos'].sum())\n",
    "\n",
    "#Transfomo as listas em Series\n",
    "data = pd.Series(lista_data)\n",
    "casosAcumulados = pd.Series(lista_casosAcumulados)\n",
    "obitosAcumulados = pd.Series(lista_obitosAcumulados)\n",
    "casosNovos = pd.Series(lista_casosNovos)\n",
    "obitosNovos = pd.Series(lista_obitosNovos)\n",
    "\n",
    "#Crio um DataFrame a partir da data\n",
    "df_por_data = data.to_frame(name='data')\n",
    "\n",
    "#Cria as colunas com os dados no Dataframe\n",
    "df_por_data['casosAcumulados'] = casosAcumulados\n",
    "df_por_data['obitosAcumulados'] = obitosAcumulados\n",
    "df_por_data['casosNovos'] = casosNovos\n",
    "df_por_data['obitosNovos'] = obitosNovos\n",
    "\n",
    "df_por_data.head()"
   ]
  },
  {
   "cell_type": "markdown",
   "metadata": {},
   "source": [
    "# Dados da doença no Brasil"
   ]
  },
  {
   "cell_type": "markdown",
   "metadata": {},
   "source": [
    "## Estados com mais casos "
   ]
  },
  {
   "cell_type": "code",
   "execution_count": null,
   "metadata": {},
   "outputs": [],
   "source": [
    "#Pega sempre a informação do ultimo dia do dataset\n",
    "ultimo_dia = cv[['casosAcumulados','data']].max()[1]\n",
    "\n",
    "#Filtra os casos acumulados por estado com a maior quantiddade de casos\n",
    "maior_n_casos = cv[cv['data'] == ultimo_dia][['estado','casosAcumulados']].sort_values(by='casosAcumulados',ascending=False)\n",
    "#Corrige o indice\n",
    "maior_n_casos.reset_index(inplace=True,drop=True)\n",
    "#Renomeia as colunas\n",
    "maior_n_casos.columns = [['Estado','Casos Acumulados']]\n",
    "#imprime os 5 primeiros\n",
    "maior_n_casos.head()"
   ]
  },
  {
   "cell_type": "markdown",
   "metadata": {},
   "source": [
    "A listagem acima mostra os 5 estados que possuem o maior numero de casos. É importante observar que esses estados têm algumas das metropoles do país, onde vivem um grande número de pessoas, ambiente ideal para a propagação do vírus. Desde o começo da pademia São Paulo lidera com o maior número de casos."
   ]
  },
  {
   "cell_type": "code",
   "execution_count": null,
   "metadata": {},
   "outputs": [],
   "source": [
    "#Seleciona os estados com o menor numero de caso\n",
    "maior_n_casos.tail()"
   ]
  },
  {
   "cell_type": "markdown",
   "metadata": {},
   "source": [
    "Um fato interessante nesses dados é que a quantidade de casos em Tocantins é muito menor que nos outros estados, se for comparar com São Paulo por exemplo, o número é 357 vezes menor. Dois fatores podem estar relacionados com esses números, o primeiro é o fato de Tocantis não possuir uma grande metrópole ou ser um polo industrial que são características que os estados com o maior número de contaminados possuem, outro fator pode estar relacionado com a subnotificação dos casos, problema que vem sendo levantado por diversos canais de noticias em todo o país."
   ]
  },
  {
   "cell_type": "code",
   "execution_count": null,
   "metadata": {},
   "outputs": [],
   "source": [
    "print('Atualmente o Brasil possui no total',df_por_data['casosNovos'].sum(),'Casos de COVID-19 e',df_por_data['obitosNovos'].sum(),'obitos,',\n",
    "     'a doença tem uma letalidade de {x}%'.format(x=round(df_por_data['obitosNovos'].sum()/df_por_data['casosNovos'].sum() * 100,2)))"
   ]
  },
  {
   "cell_type": "markdown",
   "metadata": {},
   "source": [
    "## Evolução da doença por dia no Brasil"
   ]
  },
  {
   "cell_type": "code",
   "execution_count": null,
   "metadata": {},
   "outputs": [],
   "source": [
    "#Setando um grid\n",
    "sns.set_style(\"darkgrid\")"
   ]
  },
  {
   "cell_type": "code",
   "execution_count": null,
   "metadata": {
    "scrolled": false
   },
   "outputs": [],
   "source": [
    "#IMPRESSÃO DO GRAFICO (Casos e Obitos Acumulados x Data)\n",
    "\n",
    "plt.figure(figsize=(18,9))\n",
    "sns.lineplot(x='data',y=df_por_data[df_por_data['casosAcumulados'] > 0]['casosAcumulados'],data=df_por_data,lw=3,marker='o',\n",
    "             markersize=8,label='Casos Acumulados')\n",
    "sns.lineplot(x='data',y=df_por_data[df_por_data['obitosAcumulados'] > 0]['obitosAcumulados'],data=df_por_data,lw=3,marker='o',\n",
    "             markersize=8,label='Obitos Acumulados')\n",
    "\n",
    "#Aumenta a legenda\n",
    "plt.yticks(np.arange(0,df_por_data[df_por_data['casosAcumulados'] > 0]['casosAcumulados'].max() + 5001,5000))\n",
    "#Inclina a escala\n",
    "plt.xticks(rotation=40, horizontalalignment='right')\n",
    "plt.title('Casos e Obitos Acumulados')\n",
    "plt.ylabel('Casos / Obitos')\n",
    "plt.xlabel('Data')\n",
    "\n",
    "#Aumentar tamanho da legenda \n",
    "plt.rcParams['legend.fontsize'] = 15\n",
    "\n",
    "plt.legend()\n",
    "plt.show()"
   ]
  },
  {
   "cell_type": "code",
   "execution_count": null,
   "metadata": {
    "scrolled": false
   },
   "outputs": [],
   "source": [
    "#TESTE DE IMPRESSÃO DO GRAFICO (Casos Novos por dia)\n",
    "\n",
    "plt.figure(figsize=(18,9))\n",
    "sns.lineplot(x='data',y=df_por_data[df_por_data['casosNovos'] > 0]['casosNovos'],data=df_por_data,marker='o',\n",
    "             markersize=8,color='#5D78FF',label='Casos Novos')\n",
    "\n",
    "#Inclina a escala\n",
    "plt.xticks(rotation=45, horizontalalignment='right')\n",
    "plt.title('Casos Novos por dia')\n",
    "plt.ylabel('Numero de Casos por Dia')\n",
    "plt.xlabel('Data')\n",
    "\n",
    "#Aumentar tamanho da legenda \n",
    "plt.rcParams['legend.fontsize'] = 15\n",
    "plt.legend()\n",
    "\n",
    "plt.show()"
   ]
  },
  {
   "cell_type": "code",
   "execution_count": null,
   "metadata": {},
   "outputs": [],
   "source": [
    "#Fazer grafico de casos por região\n",
    "total_casos_por_regiao = cv.groupby('regiao')[['estado','casosNovos']].sum().sort_values(by='casosNovos',ascending=False)\n",
    "total_casos_por_regiao.columns = ['Casos Confirmados']\n",
    "\n",
    "print(total_casos_por_regiao)\n",
    "#Aumentar tamanho da legenda \n",
    "plt.rcParams['legend.fontsize'] = 10\n",
    "total_casos_por_regiao.plot(kind='pie',subplots=True,figsize=(8,8),cmap='summer')\n",
    "#colors=['#FF4500','#FF8C00','#FFA500','#FFD700','#FFFF00']\n",
    "plt.title('Casos Confirmados por Região')\n",
    "\n",
    "plt.show()"
   ]
  },
  {
   "cell_type": "code",
   "execution_count": null,
   "metadata": {},
   "outputs": [],
   "source": [
    "#Fazer grafico de Obitos por região\n",
    "total_casos_por_regiao = cv.groupby('regiao')[['estado','obitosNovos']].sum().sort_values(by='obitosNovos',ascending=False)\n",
    "total_casos_por_regiao.columns = ['Obitos Confirmados']\n",
    "\n",
    "print(total_casos_por_regiao)\n",
    "#Aumentar tamanho da legenda \n",
    "plt.rcParams['legend.fontsize'] = 10\n",
    "\n",
    "total_casos_por_regiao.plot(kind='pie',subplots=True,figsize=(8,8),colors=['#FF0000','#FF6347','#FF7F50','#FFA07A','#E9967A'])\n",
    "plt.title('Obitos Confirmados por Região')\n",
    "\n",
    "plt.show()"
   ]
  },
  {
   "cell_type": "code",
   "execution_count": null,
   "metadata": {},
   "outputs": [],
   "source": [
    "#Agrupa os estados e os casos, soma e ordena pela quantidade de casos\n",
    "total_casos_por_estado = cv.groupby('estado')[['estado','casosNovos']].sum().sort_values(by='casosNovos',ascending=False)\n",
    "#Remove o estado que ficou como index\n",
    "total_casos_por_estado = total_casos_por_estado.reset_index()\n",
    "\n",
    "plt.figure(figsize=(18,8))\n",
    "sns.barplot(x='estado',y='casosNovos',data=total_casos_por_estado,\n",
    "            palette=sns.color_palette(\"GnBu_d\",n_colors=len(total_casos_por_estado)+12 ))\n",
    "\n",
    "plt.show()"
   ]
  },
  {
   "cell_type": "code",
   "execution_count": null,
   "metadata": {},
   "outputs": [],
   "source": [
    "#Casos por semana"
   ]
  },
  {
   "cell_type": "code",
   "execution_count": null,
   "metadata": {},
   "outputs": [],
   "source": [
    "#Pensar em mais informações"
   ]
  },
  {
   "cell_type": "markdown",
   "metadata": {},
   "source": [
    "\n",
    "<strong>Links Úteis:</strong>\n",
    "* https://oglobo.globo.com/sociedade/coronavirus/em-colapso-pelo-coronavirus-manaus-enterra-1249-em-duas-semanas-ja-teme-falta-de-caixoes-24388568\n"
   ]
  },
  {
   "cell_type": "markdown",
   "metadata": {},
   "source": [
    "# ------------------------------------------------------------------------------------<br>\n",
    "### PERIGO ZONA DE TESTES<br>\n",
    "# ------------------------------------------------------------------------------------"
   ]
  },
  {
   "cell_type": "code",
   "execution_count": null,
   "metadata": {},
   "outputs": [],
   "source": [
    "#IMPRESSÃO DO GRAFICO (Casos e Obitos Acumulados x Data) DOS ESTADOS MAIS ATINGIDOS\n",
    "\n",
    "plt.figure(figsize=(18,9))\n",
    "sns.lineplot(x='data',y=cv[(cv['casosAcumulados'] > 0) & (cv['estado'] == 'SP')]['casosAcumulados'],data=cv,lw=3,marker='o',\n",
    "             markersize=8,label='São Paulo')\n",
    "sns.lineplot(x='data',y=cv[(cv['casosAcumulados'] > 0) & (cv['estado'] == 'RJ')]['casosAcumulados'],data=cv,lw=3,marker='o',\n",
    "             markersize=8,label='Rio de Janeiro')\n",
    "sns.lineplot(x='data',y=cv[(cv['casosAcumulados'] > 0) & (cv['estado'] == 'CE')]['casosAcumulados'],data=cv,lw=3,marker='o',\n",
    "             markersize=8,label='Ceara')\n",
    "sns.lineplot(x='data',y=cv[(cv['casosAcumulados'] > 0) & (cv['estado'] == 'PE')]['casosAcumulados'],data=cv,lw=3,marker='o',\n",
    "             markersize=8,label='Pernambuco')\n",
    "sns.lineplot(x='data',y=cv[(cv['casosAcumulados'] > 0) & (cv['estado'] == 'AM')]['casosAcumulados'],data=cv,lw=3,marker='o',\n",
    "             markersize=8,label='Amazonas')\n",
    "#Aumenta a legenda\n",
    "plt.yticks(np.arange(0,cv[(cv['casosAcumulados'] > 0) & (cv['estado'] == 'SP')]['casosAcumulados'].max() + 1000,2000))\n",
    "#Inclina a escala\n",
    "plt.xticks(rotation=40, horizontalalignment='right')\n",
    "plt.title('Casos Acumulados')\n",
    "plt.ylabel('Casos')\n",
    "plt.xlabel('Data')\n",
    "\n",
    "#Aumentar tamanho da legenda \n",
    "plt.rcParams['legend.fontsize'] = 15\n",
    "\n",
    "plt.legend()\n",
    "plt.show()"
   ]
  }
 ],
 "metadata": {
  "kernelspec": {
   "display_name": "Python 3",
   "language": "python",
   "name": "python3"
  },
  "language_info": {
   "codemirror_mode": {
    "name": "ipython",
    "version": 3
   },
   "file_extension": ".py",
   "mimetype": "text/x-python",
   "name": "python",
   "nbconvert_exporter": "python",
   "pygments_lexer": "ipython3",
   "version": "3.7.6"
  }
 },
 "nbformat": 4,
 "nbformat_minor": 2
}
